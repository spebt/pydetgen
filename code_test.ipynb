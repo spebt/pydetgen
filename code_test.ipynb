{
 "cells": [
  {
   "cell_type": "code",
   "execution_count": 3,
   "id": "5d37f2f3-13d9-4fe3-a202-dbad51a1e167",
   "metadata": {},
   "outputs": [
    {
     "name": "stdout",
     "output_type": "stream",
     "text": [
      "2.1.0\n"
     ]
    }
   ],
   "source": [
    "import numpy as np\n",
    "print(np.__version__)"
   ]
  },
  {
   "cell_type": "markdown",
   "id": "4e36fa73-5777-4030-8a3a-fde5bf1c588b",
   "metadata": {},
   "source": [
    "## test PyDetGen `get_line_array_2d` func"
   ]
  },
  {
   "cell_type": "code",
   "execution_count": 1,
   "id": "ecf9b966-b2dc-4efb-aaf2-bc2ac31a291a",
   "metadata": {},
   "outputs": [],
   "source": [
    "import pydetgen"
   ]
  },
  {
   "cell_type": "code",
   "execution_count": 4,
   "id": "eefbe6eb-996e-4fc9-93ba-1d5f312bfaae",
   "metadata": {},
   "outputs": [
    {
     "name": "stdout",
     "output_type": "stream",
     "text": [
      "test 2darray: [\n",
      "    [0, 1, 2, 3, 4, 5, 6, 7, 8, 9],\n",
      "    [0, 1, 2, 3, 4, 5, 6, 7, 8, 9],\n",
      "    [0, 1, 2, 3, 4, 5, 6, 7, 8, 9]\n",
      "]\n",
      "test 1darray: [0, 1, 2, 3, 4, 5, 6, 7, 8, 9]\n"
     ]
    }
   ],
   "source": [
    "print(pydetgen.fileio.yaml.dump_array_2D('test 2darray',np.tile(np.arange(10),(3,1))))\n",
    "print(pydetgen.fileio.yaml.dump_array_1D('test 1darray',np.arange(10)))"
   ]
  },
  {
   "cell_type": "code",
   "execution_count": null,
   "id": "61bf5f2b-f50c-4421-945f-5909c9f5e37a",
   "metadata": {},
   "outputs": [],
   "source": []
  }
 ],
 "metadata": {
  "kernelspec": {
   "display_name": "Python 3 (ipykernel)",
   "language": "python",
   "name": "python3"
  },
  "language_info": {
   "codemirror_mode": {
    "name": "ipython",
    "version": 3
   },
   "file_extension": ".py",
   "mimetype": "text/x-python",
   "name": "python",
   "nbconvert_exporter": "python",
   "pygments_lexer": "ipython3",
   "version": "3.12.3"
  }
 },
 "nbformat": 4,
 "nbformat_minor": 5
}
